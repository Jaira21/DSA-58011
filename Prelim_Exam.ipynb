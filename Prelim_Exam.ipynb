{
  "nbformat": 4,
  "nbformat_minor": 0,
  "metadata": {
    "colab": {
      "provenance": [],
      "authorship_tag": "ABX9TyPh8FG68UIJ00OUan4iCLaX",
      "include_colab_link": true
    },
    "kernelspec": {
      "name": "python3",
      "display_name": "Python 3"
    },
    "language_info": {
      "name": "python"
    }
  },
  "cells": [
    {
      "cell_type": "markdown",
      "metadata": {
        "id": "view-in-github",
        "colab_type": "text"
      },
      "source": [
        "<a href=\"https://colab.research.google.com/github/Jaira21/DSA-58011/blob/main/Prelim_Exam.ipynb\" target=\"_parent\"><img src=\"https://colab.research.google.com/assets/colab-badge.svg\" alt=\"Open In Colab\"/></a>"
      ]
    },
    {
      "cell_type": "code",
      "execution_count": 1,
      "metadata": {
        "id": "SW2KexOPo3wx",
        "colab": {
          "base_uri": "https://localhost:8080/"
        },
        "outputId": "be50baf4-1350-4c4d-dded-6d99b0b0c8b0"
      },
      "outputs": [
        {
          "output_type": "stream",
          "name": "stdout",
          "text": [
            "Composite Integers : : [4, 6, 8, 9]\n",
            "Number of Composite Integers : 4\n"
          ]
        }
      ],
      "source": [
        "CompInt = [4,6,8,9]\n",
        "print(\"Composite Integers : :\",CompInt)\n",
        "print(\"Number of Composite Integers :\",len(CompInt))"
      ]
    }
  ]
}