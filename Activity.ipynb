{
  "nbformat": 4,
  "nbformat_minor": 0,
  "metadata": {
    "colab": {
      "provenance": [],
      "authorship_tag": "ABX9TyNRO7GubKQPjjje0v4FdZ+x",
      "include_colab_link": true
    },
    "kernelspec": {
      "name": "python3",
      "display_name": "Python 3"
    },
    "language_info": {
      "name": "python"
    }
  },
  "cells": [
    {
      "cell_type": "markdown",
      "metadata": {
        "id": "view-in-github",
        "colab_type": "text"
      },
      "source": [
        "<a href=\"https://colab.research.google.com/github/Jaira21/DSA-58011/blob/main/Activity.ipynb\" target=\"_parent\"><img src=\"https://colab.research.google.com/assets/colab-badge.svg\" alt=\"Open In Colab\"/></a>"
      ]
    },
    {
      "cell_type": "markdown",
      "source": [
        "#1. Write a Python program to create an array of 10 integers and display the array items. Access individual elements through indexes and compute for the sum."
      ],
      "metadata": {
        "id": "NRiJr2f4d2ol"
      }
    },
    {
      "cell_type": "code",
      "source": [
        "from array import *\n",
        "array_num = array('i', [1,3,5,7,9,8,2,6,4,10])\n",
        "for i in array_num:\n",
        "  print(i)\n",
        "\n",
        "print(\"Access first three items individually\") \n",
        "print(array_num[0])\n",
        "print(array_num[1])\n",
        "print(array_num[2])\n",
        "print(array_num[3])\n",
        "print(array_num[4])\n",
        "print(array_num[5])\n",
        "print(array_num[6])\n",
        "print(array_num[7])\n",
        "print(array_num[8])\n",
        "print(array_num[9])\n",
        "\n",
        "def _sum(array):\n",
        "  sum = 0\n",
        "  for i in array_num:\n",
        "    sum = sum + i\n",
        "    return(sum)\n",
        "\n",
        "arr = []\n",
        "arr = [1,3,5,7,9,8,2,6,4,10]\n",
        "n = len(arr)\n",
        "ans = _sum(array)\n",
        "print('Sum of the array is ', ans)"
      ],
      "metadata": {
        "colab": {
          "base_uri": "https://localhost:8080/"
        },
        "id": "VjjsxRNWVYms",
        "outputId": "78a7c0f8-d124-498c-d46f-c390aa0b1ff4"
      },
      "execution_count": null,
      "outputs": [
        {
          "output_type": "stream",
          "name": "stdout",
          "text": [
            "1\n",
            "3\n",
            "5\n",
            "7\n",
            "9\n",
            "8\n",
            "2\n",
            "6\n",
            "4\n",
            "10\n",
            "Access first three items individually\n",
            "1\n",
            "3\n",
            "5\n",
            "7\n",
            "9\n",
            "8\n",
            "2\n",
            "6\n",
            "4\n",
            "10\n",
            "Sum of the array is  1\n"
          ]
        }
      ]
    },
    {
      "cell_type": "markdown",
      "source": [
        "#2. Write a Python program to append a new item to the end of the array. Original array: numbers = [1, 2, 3, 4, 5, 6, 7, 8, 9, 10]"
      ],
      "metadata": {
        "id": "m98wyY3Ud4xa"
      }
    },
    {
      "cell_type": "code",
      "source": [
        "import array as arr\n",
        "\n",
        "a = arr.array('i', [1,2,3])\n",
        "\n",
        "print (\"Array before insertion : \",end =\" \")\n",
        "for i in range (0, 3):\n",
        "  print (a[i], end =\" \")\n",
        "print()\n",
        "\n",
        "a.insert(3,4)\n",
        "\n",
        "print (\"Array before insertion : \",end =\" \")\n",
        "for i in range (0, 3):\n",
        "  print (a[i], end =\" \")\n",
        "print()"
      ],
      "metadata": {
        "colab": {
          "base_uri": "https://localhost:8080/"
        },
        "id": "Oxbhoj5gbW-V",
        "outputId": "c2ba8927-8f50-45ae-ae02-8eece2ae2322"
      },
      "execution_count": null,
      "outputs": [
        {
          "output_type": "stream",
          "name": "stdout",
          "text": [
            "Array before insertion :  1 2 3 \n",
            "Array before insertion :  1 2 3 \n"
          ]
        }
      ]
    },
    {
      "cell_type": "markdown",
      "source": [
        "#3. Write a Python program to insert a new item before the second element in an existing array. Original array: numbers = [1, 2, 3, 4, 5, 6, 7, 8, 9, 10]"
      ],
      "metadata": {
        "id": "6k8Wh44pd7lM"
      }
    },
    {
      "cell_type": "code",
      "source": [
        "import array as arr\n",
        "\n",
        "a = arr.array('i', [1,2,3,4,5,6,7,8,9,10])\n",
        "\n",
        "print (\"Array before insertion : \",end =\" \")\n",
        "for i in range (0, 10):\n",
        "  print (a[i], end =\" \")\n",
        "print()\n",
        "\n",
        "a.insert(1,11)\n",
        "\n",
        "print (\"Array before insertion : \",end =\" \")\n",
        "for i in range (0, 10):\n",
        "  print (a[i], end =\" \")\n",
        "print()"
      ],
      "metadata": {
        "colab": {
          "base_uri": "https://localhost:8080/"
        },
        "id": "m5576TokcN1U",
        "outputId": "fb372fd5-1742-4471-c157-414eee637e97"
      },
      "execution_count": null,
      "outputs": [
        {
          "output_type": "stream",
          "name": "stdout",
          "text": [
            "Array before insertion :  1 2 3 4 5 6 7 8 9 10 \n",
            "Array before insertion :  1 11 2 3 4 5 6 7 8 9 \n"
          ]
        }
      ]
    },
    {
      "cell_type": "markdown",
      "source": [
        "#4. Write a Python program to reverse the order of the items in the array.Original array: numbers = [5, 4, 3, 2, 1]"
      ],
      "metadata": {
        "id": "-lUZHHXxe4tU"
      }
    },
    {
      "cell_type": "code",
      "source": [
        "import array as arr\n",
        "\n",
        "a = arr.array('i', [1,2,3,4,5,6,7,8,9,10])\n",
        "\n",
        "print (\"Array before insertion : \",end =\" \")\n",
        "for i in range (0, 10):\n",
        "  print (a[i], end =\" \")\n",
        "print()\n",
        "\n",
        "a.insert(1,11)\n",
        "\n",
        "print (\"Array after insertion : \",end =\" \")\n",
        "for i in range (1, 11):\n",
        "  print (a[i], end =\" \")\n",
        "print()"
      ],
      "metadata": {
        "colab": {
          "base_uri": "https://localhost:8080/"
        },
        "id": "RNBR8xrweH2i",
        "outputId": "2645f752-9915-4ce9-a1f7-168f63403be2"
      },
      "execution_count": null,
      "outputs": [
        {
          "output_type": "stream",
          "name": "stdout",
          "text": [
            "Array before insertion :  1 2 3 4 5 6 7 8 9 10 \n",
            "Array after insertion :  11 2 3 4 5 6 7 8 9 10 \n"
          ]
        }
      ]
    },
    {
      "cell_type": "markdown",
      "source": [
        "#5. Write a Python program to get the length of the array. Original array: numbers = [5, 4, 3, 2, 1]"
      ],
      "metadata": {
        "id": "QkRyG32-e4_1"
      }
    },
    {
      "cell_type": "code",
      "source": [
        "arr = [1,2,3,4,5]\n",
        "print(\"Original Array :\",arr)\n",
        "\n",
        "res = arr[::-1]\n",
        "print(\"Reversed Array :\",res)"
      ],
      "metadata": {
        "colab": {
          "base_uri": "https://localhost:8080/"
        },
        "id": "Bs9-cYdcehUU",
        "outputId": "3e6bfe86-1e0d-4e8d-8751-d5ce08777e9a"
      },
      "execution_count": 20,
      "outputs": [
        {
          "output_type": "stream",
          "name": "stdout",
          "text": [
            "Original Array : [1, 2, 3, 4, 5]\n",
            "Reversed Array : [5, 4, 3, 2, 1]\n"
          ]
        }
      ]
    }
  ]
}