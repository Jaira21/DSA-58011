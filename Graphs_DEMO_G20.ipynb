{
  "nbformat": 4,
  "nbformat_minor": 0,
  "metadata": {
    "colab": {
      "provenance": [],
      "authorship_tag": "ABX9TyNQ4jsf8BfgjCmLjheSULzT",
      "include_colab_link": true
    },
    "kernelspec": {
      "name": "python3",
      "display_name": "Python 3"
    },
    "language_info": {
      "name": "python"
    }
  },
  "cells": [
    {
      "cell_type": "markdown",
      "metadata": {
        "id": "view-in-github",
        "colab_type": "text"
      },
      "source": [
        "<a href=\"https://colab.research.google.com/github/Jaira21/DSA-58011/blob/main/Graphs_DEMO_G20.ipynb\" target=\"_parent\"><img src=\"https://colab.research.google.com/assets/colab-badge.svg\" alt=\"Open In Colab\"/></a>"
      ]
    },
    {
      "cell_type": "markdown",
      "source": [
        "DEMO\n",
        "\n",
        "1st GRAPH"
      ],
      "metadata": {
        "id": "9XYTMv7jshAy"
      }
    },
    {
      "cell_type": "code",
      "source": [
        "#Data Elements using Dictionaries to implement Graphs\n",
        "graph = {\n",
        "    'a': ['b','c'],\n",
        "    'b': ['a','d'],\n",
        "    'c': ['a','d'],\n",
        "    'd': ['b','c','d','e'],\n",
        "    'e': ['e']\n",
        "}"
      ],
      "metadata": {
        "id": "mz3cF41asi_p"
      },
      "execution_count": null,
      "outputs": []
    },
    {
      "cell_type": "code",
      "source": [
        "#Data Elements using Dictionaries to implement Graphs\n",
        "graph = {\n",
        "    'a': ['b','c'],\n",
        "    'b': ['a','d'],\n",
        "    'c': ['a','d'],\n",
        "    'd': ['b','c','d','e'],\n",
        "    'e': ['e']\n",
        "}\n",
        "print(graph)"
      ],
      "metadata": {
        "colab": {
          "base_uri": "https://localhost:8080/"
        },
        "id": "t6bckeMHssOR",
        "outputId": "460be0a6-8d24-464a-ed10-d462c5a01ee6"
      },
      "execution_count": null,
      "outputs": [
        {
          "output_type": "stream",
          "name": "stdout",
          "text": [
            "{'a': ['b', 'c'], 'b': ['a', 'd'], 'c': ['a', 'd'], 'd': ['b', 'c', 'd', 'e'], 'e': ['e']}\n"
          ]
        }
      ]
    },
    {
      "cell_type": "markdown",
      "source": [
        "2nd GRAPH"
      ],
      "metadata": {
        "id": "C82zdxb1tO5N"
      }
    },
    {
      "cell_type": "code",
      "source": [
        "#Application of Data elements using dictionaries to implement Graphs\n",
        "G20 = {\n",
        "    '1': ['4'],\n",
        "    '2': ['1','3','4'],\n",
        "    '3': ['2','4'],\n",
        "    '4': [],\n",
        "}\n",
        "print(G20)"
      ],
      "metadata": {
        "colab": {
          "base_uri": "https://localhost:8080/"
        },
        "id": "B2jv-yd_tRYs",
        "outputId": "206e17d9-e81c-4d99-bec6-3dbb8eb10fbd"
      },
      "execution_count": 4,
      "outputs": [
        {
          "output_type": "stream",
          "name": "stdout",
          "text": [
            "{'1': ['4'], '2': ['1', '3', '4'], '3': ['2', '4'], '4': []}\n"
          ]
        }
      ]
    }
  ]
}