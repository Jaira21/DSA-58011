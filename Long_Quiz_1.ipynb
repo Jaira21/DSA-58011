{
  "nbformat": 4,
  "nbformat_minor": 0,
  "metadata": {
    "colab": {
      "provenance": [],
      "authorship_tag": "ABX9TyOi9ZJcKtWCOSRlwVhvTU/D",
      "include_colab_link": true
    },
    "kernelspec": {
      "name": "python3",
      "display_name": "Python 3"
    },
    "language_info": {
      "name": "python"
    }
  },
  "cells": [
    {
      "cell_type": "markdown",
      "metadata": {
        "id": "view-in-github",
        "colab_type": "text"
      },
      "source": [
        "<a href=\"https://colab.research.google.com/github/Jaira21/DSA-58011/blob/main/Long_Quiz_1.ipynb\" target=\"_parent\"><img src=\"https://colab.research.google.com/assets/colab-badge.svg\" alt=\"Open In Colab\"/></a>"
      ]
    },
    {
      "cell_type": "markdown",
      "source": [
        "#Linked-List\n"
      ],
      "metadata": {
        "id": "jELM60Vqca0K"
      }
    },
    {
      "cell_type": "code",
      "source": [
        "class Node:\n",
        "\n",
        "    def __init__(self, data):\n",
        "        self.data = data\n",
        "        self.next = None\n",
        "  \n",
        "class LinkedList:\n",
        "  \n",
        "    def __init__(self):\n",
        "        self.head = None\n",
        "  \n",
        "    def reverse(self):\n",
        "        prev = None\n",
        "        current = self.head\n",
        "        while(current is not None):\n",
        "            next = current.next\n",
        "            current.next = prev\n",
        "            prev = current\n",
        "            current = next\n",
        "        self.head = prev\n",
        "\n",
        "    def push(self, new_data):\n",
        "        new_node = Node(new_data)\n",
        "        new_node.next = self.head\n",
        "        self.head = new_node\n",
        " \n",
        "    def printList(self):\n",
        "        temp = self.head\n",
        "        while(temp):\n",
        "            print (temp.data,end=\" \")\n",
        "            temp = temp.next\n",
        "\n",
        "llist = LinkedList()\n",
        "llist.push(\"Ronquillo\")\n",
        "llist.push(\"J'aira\")\n",
        "\n",
        "print (\"Full Name:\")\n",
        "llist.printList()\n",
        "llist.reverse()\n",
        "print (\"\\nReversed Full Name:\")\n",
        "llist.printList()"
      ],
      "metadata": {
        "colab": {
          "base_uri": "https://localhost:8080/"
        },
        "id": "Io9QguBzcDOF",
        "outputId": "32d625b0-5dc8-414f-f4df-1529d9d7932f"
      },
      "execution_count": 2,
      "outputs": [
        {
          "output_type": "stream",
          "name": "stdout",
          "text": [
            "Full Name:\n",
            "J'aira Ronquillo \n",
            "Reversed Full Name:\n",
            "Ronquillo J'aira "
          ]
        }
      ]
    }
  ]
}